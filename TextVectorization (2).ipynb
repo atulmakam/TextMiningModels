{
 "cells": [
  {
   "cell_type": "code",
   "execution_count": 1,
   "metadata": {},
   "outputs": [],
   "source": [
    "##### text vectorization"
   ]
  },
  {
   "cell_type": "code",
   "execution_count": 2,
   "metadata": {},
   "outputs": [],
   "source": [
    "# https://scikit-learn.org/stable/modules/feature_extraction.html#text-feature-extraction\n",
    "# https://scikit-learn.org/stable/modules/generated/sklearn.feature_extraction.text.CountVectorizer.html\n",
    "# https://scikit-learn.org/stable/modules/generated/sklearn.feature_extraction.text.TfidfVectorizer.html"
   ]
  },
  {
   "cell_type": "code",
   "execution_count": 3,
   "metadata": {},
   "outputs": [],
   "source": [
    "import numpy as np\n",
    "import pandas as pd"
   ]
  },
  {
   "cell_type": "code",
   "execution_count": 4,
   "metadata": {},
   "outputs": [
    {
     "data": {
      "text/plain": [
       "['This is a brown house. This house is big. The street number is 1.',\n",
       " 'This is a small house. This house has 1 bedroom. The street number is 12.',\n",
       " 'This dog is brown. This dog likes to play.',\n",
       " 'The dog is in the bedroom.']"
      ]
     },
     "execution_count": 4,
     "metadata": {},
     "output_type": "execute_result"
    }
   ],
   "source": [
    "# doc corpus \n",
    "corpus = [\"This is a brown house. This house is big. The street number is 1.\",\n",
    "          \"This is a small house. This house has 1 bedroom. The street number is 12.\",\n",
    "          \"This dog is brown. This dog likes to play.\",\n",
    "          \"The dog is in the bedroom.\"]\n",
    "corpus"
   ]
  },
  {
   "cell_type": "markdown",
   "metadata": {},
   "source": [
    "### Binary Term Frequency"
   ]
  },
  {
   "cell_type": "code",
   "execution_count": 5,
   "metadata": {},
   "outputs": [
    {
     "data": {
      "text/html": [
       "<div>\n",
       "<style scoped>\n",
       "    .dataframe tbody tr th:only-of-type {\n",
       "        vertical-align: middle;\n",
       "    }\n",
       "\n",
       "    .dataframe tbody tr th {\n",
       "        vertical-align: top;\n",
       "    }\n",
       "\n",
       "    .dataframe thead th {\n",
       "        text-align: right;\n",
       "    }\n",
       "</style>\n",
       "<table border=\"1\" class=\"dataframe\">\n",
       "  <thead>\n",
       "    <tr style=\"text-align: right;\">\n",
       "      <th></th>\n",
       "      <th>12</th>\n",
       "      <th>bedroom</th>\n",
       "      <th>big</th>\n",
       "      <th>brown</th>\n",
       "      <th>dog</th>\n",
       "      <th>house</th>\n",
       "      <th>likes</th>\n",
       "      <th>number</th>\n",
       "      <th>play</th>\n",
       "      <th>small</th>\n",
       "      <th>street</th>\n",
       "    </tr>\n",
       "  </thead>\n",
       "  <tbody>\n",
       "    <tr>\n",
       "      <td>0</td>\n",
       "      <td>0.0</td>\n",
       "      <td>0.0</td>\n",
       "      <td>1.0</td>\n",
       "      <td>1.0</td>\n",
       "      <td>0.0</td>\n",
       "      <td>1.0</td>\n",
       "      <td>0.0</td>\n",
       "      <td>1.0</td>\n",
       "      <td>0.0</td>\n",
       "      <td>0.0</td>\n",
       "      <td>1.0</td>\n",
       "    </tr>\n",
       "    <tr>\n",
       "      <td>1</td>\n",
       "      <td>1.0</td>\n",
       "      <td>1.0</td>\n",
       "      <td>0.0</td>\n",
       "      <td>0.0</td>\n",
       "      <td>0.0</td>\n",
       "      <td>1.0</td>\n",
       "      <td>0.0</td>\n",
       "      <td>1.0</td>\n",
       "      <td>0.0</td>\n",
       "      <td>1.0</td>\n",
       "      <td>1.0</td>\n",
       "    </tr>\n",
       "    <tr>\n",
       "      <td>2</td>\n",
       "      <td>0.0</td>\n",
       "      <td>0.0</td>\n",
       "      <td>0.0</td>\n",
       "      <td>1.0</td>\n",
       "      <td>1.0</td>\n",
       "      <td>0.0</td>\n",
       "      <td>1.0</td>\n",
       "      <td>0.0</td>\n",
       "      <td>1.0</td>\n",
       "      <td>0.0</td>\n",
       "      <td>0.0</td>\n",
       "    </tr>\n",
       "    <tr>\n",
       "      <td>3</td>\n",
       "      <td>0.0</td>\n",
       "      <td>1.0</td>\n",
       "      <td>0.0</td>\n",
       "      <td>0.0</td>\n",
       "      <td>1.0</td>\n",
       "      <td>0.0</td>\n",
       "      <td>0.0</td>\n",
       "      <td>0.0</td>\n",
       "      <td>0.0</td>\n",
       "      <td>0.0</td>\n",
       "      <td>0.0</td>\n",
       "    </tr>\n",
       "  </tbody>\n",
       "</table>\n",
       "</div>"
      ],
      "text/plain": [
       "    12  bedroom  big  brown  dog  house  likes  number  play  small  street\n",
       "0  0.0      0.0  1.0    1.0  0.0    1.0    0.0     1.0   0.0    0.0     1.0\n",
       "1  1.0      1.0  0.0    0.0  0.0    1.0    0.0     1.0   0.0    1.0     1.0\n",
       "2  0.0      0.0  0.0    1.0  1.0    0.0    1.0     0.0   1.0    0.0     0.0\n",
       "3  0.0      1.0  0.0    0.0  1.0    0.0    0.0     0.0   0.0    0.0     0.0"
      ]
     },
     "execution_count": 5,
     "metadata": {},
     "output_type": "execute_result"
    }
   ],
   "source": [
    "# Binary Term Frequency\n",
    "from sklearn.feature_extraction.text import TfidfVectorizer\n",
    "tv = TfidfVectorizer(\n",
    "    binary=True, norm=False, # tf - binary\n",
    "    use_idf=False, smooth_idf=False, # idf - none\n",
    "    lowercase=True, stop_words='english', \n",
    "    min_df=1, max_df=1.0, max_features=None, \n",
    "    ngram_range=(1, 1))\n",
    "df = pd.DataFrame(tv.fit_transform(corpus).toarray(), columns=tv.get_feature_names())\n",
    "# print(tv.vocabulary_) # dictionary where key is word and value is index in returned array\n",
    "# from sklearn.feature_extraction import text\n",
    "# print(text.ENGLISH_STOP_WORDS)\n",
    "df"
   ]
  },
  {
   "cell_type": "markdown",
   "metadata": {},
   "source": [
    "### BoW (Bag of Words) Term Frequency "
   ]
  },
  {
   "cell_type": "code",
   "execution_count": 6,
   "metadata": {},
   "outputs": [
    {
     "data": {
      "text/html": [
       "<div>\n",
       "<style scoped>\n",
       "    .dataframe tbody tr th:only-of-type {\n",
       "        vertical-align: middle;\n",
       "    }\n",
       "\n",
       "    .dataframe tbody tr th {\n",
       "        vertical-align: top;\n",
       "    }\n",
       "\n",
       "    .dataframe thead th {\n",
       "        text-align: right;\n",
       "    }\n",
       "</style>\n",
       "<table border=\"1\" class=\"dataframe\">\n",
       "  <thead>\n",
       "    <tr style=\"text-align: right;\">\n",
       "      <th></th>\n",
       "      <th>12</th>\n",
       "      <th>bedroom</th>\n",
       "      <th>big</th>\n",
       "      <th>brown</th>\n",
       "      <th>dog</th>\n",
       "      <th>house</th>\n",
       "      <th>likes</th>\n",
       "      <th>number</th>\n",
       "      <th>play</th>\n",
       "      <th>small</th>\n",
       "      <th>street</th>\n",
       "    </tr>\n",
       "  </thead>\n",
       "  <tbody>\n",
       "    <tr>\n",
       "      <td>0</td>\n",
       "      <td>0.0</td>\n",
       "      <td>0.0</td>\n",
       "      <td>1.0</td>\n",
       "      <td>1.0</td>\n",
       "      <td>0.0</td>\n",
       "      <td>2.0</td>\n",
       "      <td>0.0</td>\n",
       "      <td>1.0</td>\n",
       "      <td>0.0</td>\n",
       "      <td>0.0</td>\n",
       "      <td>1.0</td>\n",
       "    </tr>\n",
       "    <tr>\n",
       "      <td>1</td>\n",
       "      <td>1.0</td>\n",
       "      <td>1.0</td>\n",
       "      <td>0.0</td>\n",
       "      <td>0.0</td>\n",
       "      <td>0.0</td>\n",
       "      <td>2.0</td>\n",
       "      <td>0.0</td>\n",
       "      <td>1.0</td>\n",
       "      <td>0.0</td>\n",
       "      <td>1.0</td>\n",
       "      <td>1.0</td>\n",
       "    </tr>\n",
       "    <tr>\n",
       "      <td>2</td>\n",
       "      <td>0.0</td>\n",
       "      <td>0.0</td>\n",
       "      <td>0.0</td>\n",
       "      <td>1.0</td>\n",
       "      <td>2.0</td>\n",
       "      <td>0.0</td>\n",
       "      <td>1.0</td>\n",
       "      <td>0.0</td>\n",
       "      <td>1.0</td>\n",
       "      <td>0.0</td>\n",
       "      <td>0.0</td>\n",
       "    </tr>\n",
       "    <tr>\n",
       "      <td>3</td>\n",
       "      <td>0.0</td>\n",
       "      <td>1.0</td>\n",
       "      <td>0.0</td>\n",
       "      <td>0.0</td>\n",
       "      <td>1.0</td>\n",
       "      <td>0.0</td>\n",
       "      <td>0.0</td>\n",
       "      <td>0.0</td>\n",
       "      <td>0.0</td>\n",
       "      <td>0.0</td>\n",
       "      <td>0.0</td>\n",
       "    </tr>\n",
       "  </tbody>\n",
       "</table>\n",
       "</div>"
      ],
      "text/plain": [
       "    12  bedroom  big  brown  dog  house  likes  number  play  small  street\n",
       "0  0.0      0.0  1.0    1.0  0.0    2.0    0.0     1.0   0.0    0.0     1.0\n",
       "1  1.0      1.0  0.0    0.0  0.0    2.0    0.0     1.0   0.0    1.0     1.0\n",
       "2  0.0      0.0  0.0    1.0  2.0    0.0    1.0     0.0   1.0    0.0     0.0\n",
       "3  0.0      1.0  0.0    0.0  1.0    0.0    0.0     0.0   0.0    0.0     0.0"
      ]
     },
     "execution_count": 6,
     "metadata": {},
     "output_type": "execute_result"
    }
   ],
   "source": [
    "# BoW (Bag of Words) Term Frequency \n",
    "\n",
    "# Note: The default regexp select tokens of 2 or more alphanumeric characters \n",
    "# (punctuation is completely ignored and always treated as a token separator).\n",
    "#\n",
    "# lowercase = True; stop_words = ‘english’\n",
    "#\n",
    "# - max_df (default 1.0): \n",
    "#             When building the vocabulary ignore terms that have a document frequency \n",
    "#             strictly higher than the given threshold (corpus-specific stop words). \n",
    "#             If float, the parameter represents a proportion of documents, integer absolute counts.\n",
    "# - min_df (default 1): \n",
    "#           When building the vocabulary ignore terms that have a document frequency \n",
    "#           strictly lower than the given threshold.\n",
    "#           If float, the parameter represents a proportion of documents, integer absolute counts.\n",
    "# - max_features (default None) : \n",
    "#             If not None, build a vocabulary that only consider the top max_features \n",
    "#            ordered by term frequency across the corpus.\n",
    "# - ngram_range (default (1,1)):\n",
    "#            The lower and upper boundary of the range of n-values for different n-grams to be extracted. \n",
    "#            All values of n such that min_n <= n <= max_n will be used.\n",
    "\n",
    "from sklearn.feature_extraction.text import TfidfVectorizer\n",
    "tv = TfidfVectorizer(\n",
    "    binary=False, norm=None, # tf - bow\n",
    "    use_idf=False, smooth_idf=False, # idf - none\n",
    "    lowercase=True, stop_words='english', \n",
    "    min_df=1, max_df=1.0, max_features=None, \n",
    "    ngram_range=(1, 1))\n",
    "df = pd.DataFrame(tv.fit_transform(corpus).toarray(), columns=tv.get_feature_names())\n",
    "df\n",
    "\n",
    "# BoW using CountVectorizer\n",
    "# from sklearn.feature_extraction.text import CountVectorizer\n",
    "# cv = CountVectorizer(\n",
    "#     lowercase=True, stop_words='english', \n",
    "#     min_df=1, max_df=1.0, max_features=None, \n",
    "#     ngram_range=(1, 1))\n",
    "# df = pd.DataFrame(cv.fit_transform(corpus).toarray(), columns=cv.get_feature_names())\n",
    "# df"
   ]
  },
  {
   "cell_type": "markdown",
   "metadata": {},
   "source": [
    "### L1-Normalized Term Frequency"
   ]
  },
  {
   "cell_type": "code",
   "execution_count": 7,
   "metadata": {},
   "outputs": [
    {
     "data": {
      "text/html": [
       "<div>\n",
       "<style scoped>\n",
       "    .dataframe tbody tr th:only-of-type {\n",
       "        vertical-align: middle;\n",
       "    }\n",
       "\n",
       "    .dataframe tbody tr th {\n",
       "        vertical-align: top;\n",
       "    }\n",
       "\n",
       "    .dataframe thead th {\n",
       "        text-align: right;\n",
       "    }\n",
       "</style>\n",
       "<table border=\"1\" class=\"dataframe\">\n",
       "  <thead>\n",
       "    <tr style=\"text-align: right;\">\n",
       "      <th></th>\n",
       "      <th>12</th>\n",
       "      <th>bedroom</th>\n",
       "      <th>big</th>\n",
       "      <th>brown</th>\n",
       "      <th>dog</th>\n",
       "      <th>house</th>\n",
       "      <th>likes</th>\n",
       "      <th>number</th>\n",
       "      <th>play</th>\n",
       "      <th>small</th>\n",
       "      <th>street</th>\n",
       "    </tr>\n",
       "  </thead>\n",
       "  <tbody>\n",
       "    <tr>\n",
       "      <td>0</td>\n",
       "      <td>0.000000</td>\n",
       "      <td>0.000000</td>\n",
       "      <td>0.166667</td>\n",
       "      <td>0.166667</td>\n",
       "      <td>0.0</td>\n",
       "      <td>0.333333</td>\n",
       "      <td>0.0</td>\n",
       "      <td>0.166667</td>\n",
       "      <td>0.0</td>\n",
       "      <td>0.000000</td>\n",
       "      <td>0.166667</td>\n",
       "    </tr>\n",
       "    <tr>\n",
       "      <td>1</td>\n",
       "      <td>0.142857</td>\n",
       "      <td>0.142857</td>\n",
       "      <td>0.000000</td>\n",
       "      <td>0.000000</td>\n",
       "      <td>0.0</td>\n",
       "      <td>0.285714</td>\n",
       "      <td>0.0</td>\n",
       "      <td>0.142857</td>\n",
       "      <td>0.0</td>\n",
       "      <td>0.142857</td>\n",
       "      <td>0.142857</td>\n",
       "    </tr>\n",
       "    <tr>\n",
       "      <td>2</td>\n",
       "      <td>0.000000</td>\n",
       "      <td>0.000000</td>\n",
       "      <td>0.000000</td>\n",
       "      <td>0.200000</td>\n",
       "      <td>0.4</td>\n",
       "      <td>0.000000</td>\n",
       "      <td>0.2</td>\n",
       "      <td>0.000000</td>\n",
       "      <td>0.2</td>\n",
       "      <td>0.000000</td>\n",
       "      <td>0.000000</td>\n",
       "    </tr>\n",
       "    <tr>\n",
       "      <td>3</td>\n",
       "      <td>0.000000</td>\n",
       "      <td>0.500000</td>\n",
       "      <td>0.000000</td>\n",
       "      <td>0.000000</td>\n",
       "      <td>0.5</td>\n",
       "      <td>0.000000</td>\n",
       "      <td>0.0</td>\n",
       "      <td>0.000000</td>\n",
       "      <td>0.0</td>\n",
       "      <td>0.000000</td>\n",
       "      <td>0.000000</td>\n",
       "    </tr>\n",
       "  </tbody>\n",
       "</table>\n",
       "</div>"
      ],
      "text/plain": [
       "         12   bedroom       big     brown  dog     house  likes    number  \\\n",
       "0  0.000000  0.000000  0.166667  0.166667  0.0  0.333333    0.0  0.166667   \n",
       "1  0.142857  0.142857  0.000000  0.000000  0.0  0.285714    0.0  0.142857   \n",
       "2  0.000000  0.000000  0.000000  0.200000  0.4  0.000000    0.2  0.000000   \n",
       "3  0.000000  0.500000  0.000000  0.000000  0.5  0.000000    0.0  0.000000   \n",
       "\n",
       "   play     small    street  \n",
       "0   0.0  0.000000  0.166667  \n",
       "1   0.0  0.142857  0.142857  \n",
       "2   0.2  0.000000  0.000000  \n",
       "3   0.0  0.000000  0.000000  "
      ]
     },
     "execution_count": 7,
     "metadata": {},
     "output_type": "execute_result"
    }
   ],
   "source": [
    "# L1-Normalized Term Frequency\n",
    "\n",
    "from sklearn.feature_extraction.text import TfidfVectorizer\n",
    "tv = TfidfVectorizer(\n",
    "    binary=False, norm='l1', # tf - l1 norm\n",
    "    use_idf=False, smooth_idf=False, # idf - none\n",
    "    lowercase=True, stop_words='english', \n",
    "    min_df=1, max_df=1.0, max_features=None, \n",
    "    ngram_range=(1, 1))\n",
    "df = pd.DataFrame(tv.fit_transform(corpus).toarray(), columns=tv.get_feature_names())\n",
    "df\n",
    "\n",
    "# we expect absolute sum of normalized rows to be 1 if norm='l1', for instance:\n",
    "# np.sum(np.abs(df.loc[0])) "
   ]
  },
  {
   "cell_type": "markdown",
   "metadata": {},
   "source": [
    "### L2-Normalized TfIdf "
   ]
  },
  {
   "cell_type": "code",
   "execution_count": 8,
   "metadata": {
    "scrolled": true
   },
   "outputs": [
    {
     "data": {
      "text/html": [
       "<div>\n",
       "<style scoped>\n",
       "    .dataframe tbody tr th:only-of-type {\n",
       "        vertical-align: middle;\n",
       "    }\n",
       "\n",
       "    .dataframe tbody tr th {\n",
       "        vertical-align: top;\n",
       "    }\n",
       "\n",
       "    .dataframe thead th {\n",
       "        text-align: right;\n",
       "    }\n",
       "</style>\n",
       "<table border=\"1\" class=\"dataframe\">\n",
       "  <thead>\n",
       "    <tr style=\"text-align: right;\">\n",
       "      <th></th>\n",
       "      <th>12</th>\n",
       "      <th>bedroom</th>\n",
       "      <th>big</th>\n",
       "      <th>brown</th>\n",
       "      <th>dog</th>\n",
       "      <th>house</th>\n",
       "      <th>likes</th>\n",
       "      <th>number</th>\n",
       "      <th>play</th>\n",
       "      <th>small</th>\n",
       "      <th>street</th>\n",
       "    </tr>\n",
       "  </thead>\n",
       "  <tbody>\n",
       "    <tr>\n",
       "      <td>0</td>\n",
       "      <td>0.000000</td>\n",
       "      <td>0.000000</td>\n",
       "      <td>0.432291</td>\n",
       "      <td>0.340823</td>\n",
       "      <td>0.000000</td>\n",
       "      <td>0.681647</td>\n",
       "      <td>0.000000</td>\n",
       "      <td>0.340823</td>\n",
       "      <td>0.000000</td>\n",
       "      <td>0.000000</td>\n",
       "      <td>0.340823</td>\n",
       "    </tr>\n",
       "    <tr>\n",
       "      <td>1</td>\n",
       "      <td>0.396802</td>\n",
       "      <td>0.312843</td>\n",
       "      <td>0.000000</td>\n",
       "      <td>0.000000</td>\n",
       "      <td>0.000000</td>\n",
       "      <td>0.625687</td>\n",
       "      <td>0.000000</td>\n",
       "      <td>0.312843</td>\n",
       "      <td>0.000000</td>\n",
       "      <td>0.396802</td>\n",
       "      <td>0.312843</td>\n",
       "    </tr>\n",
       "    <tr>\n",
       "      <td>2</td>\n",
       "      <td>0.000000</td>\n",
       "      <td>0.000000</td>\n",
       "      <td>0.000000</td>\n",
       "      <td>0.348842</td>\n",
       "      <td>0.697684</td>\n",
       "      <td>0.000000</td>\n",
       "      <td>0.442462</td>\n",
       "      <td>0.000000</td>\n",
       "      <td>0.442462</td>\n",
       "      <td>0.000000</td>\n",
       "      <td>0.000000</td>\n",
       "    </tr>\n",
       "    <tr>\n",
       "      <td>3</td>\n",
       "      <td>0.000000</td>\n",
       "      <td>0.707107</td>\n",
       "      <td>0.000000</td>\n",
       "      <td>0.000000</td>\n",
       "      <td>0.707107</td>\n",
       "      <td>0.000000</td>\n",
       "      <td>0.000000</td>\n",
       "      <td>0.000000</td>\n",
       "      <td>0.000000</td>\n",
       "      <td>0.000000</td>\n",
       "      <td>0.000000</td>\n",
       "    </tr>\n",
       "  </tbody>\n",
       "</table>\n",
       "</div>"
      ],
      "text/plain": [
       "         12   bedroom       big     brown       dog     house     likes  \\\n",
       "0  0.000000  0.000000  0.432291  0.340823  0.000000  0.681647  0.000000   \n",
       "1  0.396802  0.312843  0.000000  0.000000  0.000000  0.625687  0.000000   \n",
       "2  0.000000  0.000000  0.000000  0.348842  0.697684  0.000000  0.442462   \n",
       "3  0.000000  0.707107  0.000000  0.000000  0.707107  0.000000  0.000000   \n",
       "\n",
       "     number      play     small    street  \n",
       "0  0.340823  0.000000  0.000000  0.340823  \n",
       "1  0.312843  0.000000  0.396802  0.312843  \n",
       "2  0.000000  0.442462  0.000000  0.000000  \n",
       "3  0.000000  0.000000  0.000000  0.000000  "
      ]
     },
     "execution_count": 8,
     "metadata": {},
     "output_type": "execute_result"
    }
   ],
   "source": [
    "# L2-Normalized TfIdf \n",
    "\n",
    "from sklearn.feature_extraction.text import TfidfVectorizer\n",
    "tv = TfidfVectorizer(\n",
    "    binary=False, # tf  - bow\n",
    "    use_idf=True, smooth_idf=True, # idf  - with smoothing\n",
    "    norm='l2', # tfidf - l2 norm\n",
    "    lowercase=True, stop_words='english', \n",
    "    min_df=1, max_df=1.0, max_features=None, \n",
    "    ngram_range=(1, 1))\n",
    "df = pd.DataFrame(tv.fit_transform(corpus).toarray(), columns=tv.get_feature_names())\n",
    "df\n",
    "\n",
    "# we expect sum or squares of normalized rows to sum to be 1 if norm='l2', for instance:\n",
    "# np.sum(np.square(df.loc[0])) \n",
    "# we expect absolute sum of normalized rows to be 1 if norm='l1', for instance:\n",
    "#np.sum(np.abs(df.loc[0])) "
   ]
  },
  {
   "cell_type": "code",
   "execution_count": 9,
   "metadata": {},
   "outputs": [
    {
     "data": {
      "text/html": [
       "<div>\n",
       "<style scoped>\n",
       "    .dataframe tbody tr th:only-of-type {\n",
       "        vertical-align: middle;\n",
       "    }\n",
       "\n",
       "    .dataframe tbody tr th {\n",
       "        vertical-align: top;\n",
       "    }\n",
       "\n",
       "    .dataframe thead th {\n",
       "        text-align: right;\n",
       "    }\n",
       "</style>\n",
       "<table border=\"1\" class=\"dataframe\">\n",
       "  <thead>\n",
       "    <tr style=\"text-align: right;\">\n",
       "      <th></th>\n",
       "      <th>19</th>\n",
       "      <th>1969</th>\n",
       "      <th>20</th>\n",
       "      <th>21</th>\n",
       "      <th>22</th>\n",
       "      <th>aired</th>\n",
       "      <th>albums</th>\n",
       "      <th>allows</th>\n",
       "      <th>bbc</th>\n",
       "      <th>beatles</th>\n",
       "      <th>...</th>\n",
       "      <th>substituted</th>\n",
       "      <th>surreal</th>\n",
       "      <th>syntax</th>\n",
       "      <th>television</th>\n",
       "      <th>touring</th>\n",
       "      <th>used</th>\n",
       "      <th>vase</th>\n",
       "      <th>widely</th>\n",
       "      <th>πύθων</th>\n",
       "      <th>πύθωνος</th>\n",
       "    </tr>\n",
       "  </thead>\n",
       "  <tbody>\n",
       "    <tr>\n",
       "      <td>0</td>\n",
       "      <td>0.000000</td>\n",
       "      <td>0.000000</td>\n",
       "      <td>0.000000</td>\n",
       "      <td>0.000000</td>\n",
       "      <td>0.000000</td>\n",
       "      <td>0.000000</td>\n",
       "      <td>0.000000</td>\n",
       "      <td>0.000000</td>\n",
       "      <td>0.000000</td>\n",
       "      <td>0.000000</td>\n",
       "      <td>...</td>\n",
       "      <td>0.133161</td>\n",
       "      <td>0.000000</td>\n",
       "      <td>0.000000</td>\n",
       "      <td>0.000000</td>\n",
       "      <td>0.000000</td>\n",
       "      <td>0.000000</td>\n",
       "      <td>0.133161</td>\n",
       "      <td>0.000000</td>\n",
       "      <td>0.133161</td>\n",
       "      <td>0.133161</td>\n",
       "    </tr>\n",
       "    <tr>\n",
       "      <td>1</td>\n",
       "      <td>0.000000</td>\n",
       "      <td>0.126858</td>\n",
       "      <td>0.000000</td>\n",
       "      <td>0.000000</td>\n",
       "      <td>0.000000</td>\n",
       "      <td>0.126858</td>\n",
       "      <td>0.126858</td>\n",
       "      <td>0.000000</td>\n",
       "      <td>0.126858</td>\n",
       "      <td>0.126858</td>\n",
       "      <td>...</td>\n",
       "      <td>0.000000</td>\n",
       "      <td>0.126858</td>\n",
       "      <td>0.000000</td>\n",
       "      <td>0.126858</td>\n",
       "      <td>0.126858</td>\n",
       "      <td>0.000000</td>\n",
       "      <td>0.000000</td>\n",
       "      <td>0.000000</td>\n",
       "      <td>0.000000</td>\n",
       "      <td>0.000000</td>\n",
       "    </tr>\n",
       "    <tr>\n",
       "      <td>2</td>\n",
       "      <td>0.153667</td>\n",
       "      <td>0.000000</td>\n",
       "      <td>0.153667</td>\n",
       "      <td>0.153667</td>\n",
       "      <td>0.153667</td>\n",
       "      <td>0.000000</td>\n",
       "      <td>0.000000</td>\n",
       "      <td>0.153667</td>\n",
       "      <td>0.000000</td>\n",
       "      <td>0.000000</td>\n",
       "      <td>...</td>\n",
       "      <td>0.000000</td>\n",
       "      <td>0.000000</td>\n",
       "      <td>0.153667</td>\n",
       "      <td>0.000000</td>\n",
       "      <td>0.000000</td>\n",
       "      <td>0.153667</td>\n",
       "      <td>0.000000</td>\n",
       "      <td>0.153667</td>\n",
       "      <td>0.000000</td>\n",
       "      <td>0.000000</td>\n",
       "    </tr>\n",
       "  </tbody>\n",
       "</table>\n",
       "<p>3 rows × 106 columns</p>\n",
       "</div>"
      ],
      "text/plain": [
       "         19      1969        20        21        22     aired    albums  \\\n",
       "0  0.000000  0.000000  0.000000  0.000000  0.000000  0.000000  0.000000   \n",
       "1  0.000000  0.126858  0.000000  0.000000  0.000000  0.126858  0.126858   \n",
       "2  0.153667  0.000000  0.153667  0.153667  0.153667  0.000000  0.000000   \n",
       "\n",
       "     allows       bbc   beatles  ...  substituted   surreal    syntax  \\\n",
       "0  0.000000  0.000000  0.000000  ...     0.133161  0.000000  0.000000   \n",
       "1  0.000000  0.126858  0.126858  ...     0.000000  0.126858  0.000000   \n",
       "2  0.153667  0.000000  0.000000  ...     0.000000  0.000000  0.153667   \n",
       "\n",
       "   television   touring      used      vase    widely     πύθων   πύθωνος  \n",
       "0    0.000000  0.000000  0.000000  0.133161  0.000000  0.133161  0.133161  \n",
       "1    0.126858  0.126858  0.000000  0.000000  0.000000  0.000000  0.000000  \n",
       "2    0.000000  0.000000  0.153667  0.000000  0.153667  0.000000  0.000000  \n",
       "\n",
       "[3 rows x 106 columns]"
      ]
     },
     "execution_count": 9,
     "metadata": {},
     "output_type": "execute_result"
    }
   ],
   "source": [
    "# doc corpus \n",
    "\n",
    "document1 = \"\"\"In Greek mythology, Python (Greek: Πύθων, gen.: Πύθωνος) was the earth-dragon of \n",
    "Delphi, always represented in Greek sculpture and vase-paintings as a serpent. He presided at the \n",
    "Delphic oracle, which existed in the cult center for his mother, Gaia, \"Earth,\" Pytho being the \n",
    "place name that was substituted for the earlier Krisa.[1] Hellenes considered the site to be the \n",
    "center of the earth, represented by a stone, the omphalos or navel, which Python guarded.\"\"\"\n",
    "\n",
    "document2 = \"\"\"Monty Python (sometimes known as The Pythons)[2][3] were a British surreal comedy \n",
    "group who created the sketch comedy show Monty Python's Flying Circus, that first aired on the BBC on \n",
    "October 5, 1969. Forty-five episodes were made over four series. The Python phenomenon developed from \n",
    "the television series into something larger in scope and impact, spawning touring stage shows, films, \n",
    "numerous albums, several books, and a stage musical. The group's influence on comedy has been compared \n",
    "to The Beatles' influence on music.\"\"\"\n",
    "\n",
    "document3 = \"\"\"Python is a widely used general-purpose, high-level programming language.[19][20] \n",
    "Its design philosophy emphasizes code readability, and its syntax allows programmers to express \n",
    "concepts in fewer lines of code than would be possible in languages such as C++ or Java.[21][22] \n",
    "The language provides constructs intended to enable clear programs on both a small and large scale.\"\"\"\n",
    "\n",
    "corpus = [document1, document2, document3]\n",
    "\n",
    "\n",
    "from sklearn.feature_extraction.text import TfidfVectorizer\n",
    "tv = TfidfVectorizer(\n",
    "    binary=False, # tf  - bow\n",
    "    use_idf=True, smooth_idf=True, # idf  - with smoothing\n",
    "    norm='l2', # tfidf - l2 norm\n",
    "    lowercase=True, stop_words='english', \n",
    "    min_df=1, max_df=1.0, max_features=None, \n",
    "    ngram_range=(1, 1))\n",
    "df = pd.DataFrame(tv.fit_transform(corpus).toarray(), columns=tv.get_feature_names())\n",
    "df"
   ]
  },
  {
   "cell_type": "code",
   "execution_count": 10,
   "metadata": {},
   "outputs": [
    {
     "name": "stdout",
     "output_type": "stream",
     "text": [
      "\n",
      "document 0:\n",
      "greek          0.399484\n",
      "earth          0.399484\n",
      "represented    0.266323\n",
      "center         0.266323\n",
      "python         0.157295\n",
      "Name: 0, dtype: float64\n",
      "\n",
      "document 1:\n",
      "comedy       0.380573\n",
      "group        0.253715\n",
      "stage        0.253715\n",
      "series       0.253715\n",
      "influence    0.253715\n",
      "Name: 1, dtype: float64\n",
      "\n",
      "document 2:\n",
      "language       0.307333\n",
      "code           0.307333\n",
      "general        0.153667\n",
      "programming    0.153667\n",
      "programmers    0.153667\n",
      "Name: 2, dtype: float64\n"
     ]
    }
   ],
   "source": [
    "print (\"\\ndocument 0:\")\n",
    "print (df.loc[0].sort_values(ascending=False)[:5])\n",
    "\n",
    "print (\"\\ndocument 1:\")\n",
    "print (df.loc[1].sort_values(ascending=False)[:5])\n",
    "\n",
    "print (\"\\ndocument 2:\")\n",
    "print (df.loc[2].sort_values(ascending=False)[:5])"
   ]
  },
  {
   "cell_type": "markdown",
   "metadata": {},
   "source": [
    "### Word2Vec using spaCy"
   ]
  },
  {
   "cell_type": "code",
   "execution_count": 11,
   "metadata": {},
   "outputs": [],
   "source": [
    "# load a pre-trained model \n",
    "import spacy\n",
    "nlp = spacy.load(\"en_core_web_md\", disable=['parser', 'ner'])"
   ]
  },
  {
   "cell_type": "code",
   "execution_count": 12,
   "metadata": {},
   "outputs": [
    {
     "name": "stdout",
     "output_type": "stream",
     "text": [
      "300\n"
     ]
    },
    {
     "data": {
      "text/plain": [
       "array([ 0.073378,  0.22767 ,  0.20842 , -0.45679 , -0.078219,  0.60196 ,\n",
       "       -0.024494, -0.46798 ,  0.054627,  2.2837  ], dtype=float32)"
      ]
     },
     "execution_count": 12,
     "metadata": {},
     "output_type": "execute_result"
    }
   ],
   "source": [
    "# get w2v representation of the word 'breakfast'\n",
    "print (nlp('breakfast').vector.size)\n",
    "nlp('breakfast').vector[:10]"
   ]
  },
  {
   "cell_type": "code",
   "execution_count": 13,
   "metadata": {},
   "outputs": [
    {
     "data": {
      "text/plain": [
       "0.04429254581549143"
      ]
     },
     "execution_count": 13,
     "metadata": {},
     "output_type": "execute_result"
    }
   ],
   "source": [
    "# find cosine similarity between w2v representations of  'breakfast' and 'universe'\n",
    "nlp('breakfast').similarity(nlp('universe'))"
   ]
  },
  {
   "cell_type": "code",
   "execution_count": 14,
   "metadata": {},
   "outputs": [
    {
     "name": "stdout",
     "output_type": "stream",
     "text": [
      "300\n"
     ]
    },
    {
     "data": {
      "text/plain": [
       "array([-0.13203129,  0.28281957, -0.2719    , -0.34741428,  0.08816486,\n",
       "        0.07970984,  0.06203228, -0.139731  , -0.04216057,  1.8548899 ],\n",
       "      dtype=float32)"
      ]
     },
     "execution_count": 14,
     "metadata": {},
     "output_type": "execute_result"
    }
   ],
   "source": [
    "# doc vectors are average of token vectors\n",
    "doc = nlp(\"I like oranges that are sweet.\")\n",
    "print (doc.vector.size)\n",
    "doc.vector[:10]"
   ]
  },
  {
   "cell_type": "code",
   "execution_count": 15,
   "metadata": {},
   "outputs": [
    {
     "data": {
      "text/plain": [
       "0.9621542455456396"
      ]
     },
     "execution_count": 15,
     "metadata": {},
     "output_type": "execute_result"
    }
   ],
   "source": [
    "doc1 = nlp(\"I like oranges that are sweet.\")\n",
    "doc2 = nlp(\"I like apples that are sour.\")\n",
    "doc1.similarity(doc2)"
   ]
  },
  {
   "cell_type": "markdown",
   "metadata": {},
   "source": [
    "### Word2Vec using gensim"
   ]
  },
  {
   "cell_type": "code",
   "execution_count": 16,
   "metadata": {},
   "outputs": [
    {
     "name": "stdout",
     "output_type": "stream",
     "text": [
      "dict_keys(['fasttext-wiki-news-subwords-300', 'conceptnet-numberbatch-17-06-300', 'word2vec-ruscorpora-300', 'word2vec-google-news-300', 'glove-wiki-gigaword-50', 'glove-wiki-gigaword-100', 'glove-wiki-gigaword-200', 'glove-wiki-gigaword-300', 'glove-twitter-25', 'glove-twitter-50', 'glove-twitter-100', 'glove-twitter-200', '__testing_word2vec-matrix-synopsis'])\n",
      "dict_keys(['semeval-2016-2017-task3-subtaskBC', 'semeval-2016-2017-task3-subtaskA-unannotated', 'patent-2017', 'quora-duplicate-questions', 'wiki-english-20171001', 'text8', 'fake-news', '20-newsgroups', '__testing_matrix-synopsis', '__testing_multipart-matrix-synopsis'])\n"
     ]
    }
   ],
   "source": [
    "# https://github.com/RaRe-Technologies/gensim-data\n",
    "# pip install gensim\n",
    "\n",
    "import gensim.downloader as api\n",
    "from gensim.models.word2vec import Word2Vec\n",
    "\n",
    "print (api.info()['models'].keys())\n",
    "print (api.info()['corpora'].keys())"
   ]
  },
  {
   "cell_type": "code",
   "execution_count": 17,
   "metadata": {},
   "outputs": [
    {
     "name": "stdout",
     "output_type": "stream",
     "text": [
      "[==================================================] 100.0% 104.8/104.8MB downloaded\n"
     ]
    }
   ],
   "source": [
    "# load a pre-trained model based on twitter data (2B tweets, 27B tokens, 1.2M vocab)\n",
    "mdl_gt25 = api.load('glove-twitter-25')"
   ]
  },
  {
   "cell_type": "code",
   "execution_count": 18,
   "metadata": {},
   "outputs": [
    {
     "data": {
      "text/plain": [
       "array([-1.2631e+00,  9.7467e-01,  5.8564e-01,  2.4308e-01, -4.8782e-04,\n",
       "        7.8041e-01,  1.3769e+00, -1.1552e+00,  3.1112e-01,  1.8297e-01,\n",
       "        2.4571e-01, -5.9838e-01, -3.4310e+00, -5.7546e-01,  7.2326e-01,\n",
       "       -3.7095e-01,  1.6455e+00, -1.7549e+00, -8.2295e-01,  1.4697e-02,\n",
       "       -5.2037e-01, -1.6713e-01, -9.1294e-01,  1.0092e+00,  1.2327e+00],\n",
       "      dtype=float32)"
      ]
     },
     "execution_count": 18,
     "metadata": {},
     "output_type": "execute_result"
    }
   ],
   "source": [
    "# get w2v representation of the word 'breakfast'\n",
    "mdl_gt25['breakfast']"
   ]
  },
  {
   "cell_type": "code",
   "execution_count": 19,
   "metadata": {},
   "outputs": [
    {
     "data": {
      "text/plain": [
       "[('dinner', 0.9736680388450623),\n",
       " ('lunch', 0.973638653755188),\n",
       " ('meal', 0.9281821250915527),\n",
       " ('cooking', 0.9191612601280212),\n",
       " ('bake', 0.9160193800926208),\n",
       " ('bbq', 0.909622073173523),\n",
       " ('coffee', 0.9091862440109253),\n",
       " ('snack', 0.9019741415977478),\n",
       " ('cake', 0.9003361463546753),\n",
       " ('food', 0.897562563419342)]"
      ]
     },
     "execution_count": 19,
     "metadata": {},
     "output_type": "execute_result"
    }
   ],
   "source": [
    "# get words most similar to 'breakfast' based on consine distance of w2v representation\n",
    "mdl_gt25.most_similar('breakfast')"
   ]
  },
  {
   "cell_type": "code",
   "execution_count": 20,
   "metadata": {},
   "outputs": [
    {
     "data": {
      "text/plain": [
       "0.35903135"
      ]
     },
     "execution_count": 20,
     "metadata": {},
     "output_type": "execute_result"
    }
   ],
   "source": [
    "# find cosine similarity between w2v representations of  'breakfast' and 'universe'\n",
    "mdl_gt25.similarity('breakfast','universe')"
   ]
  },
  {
   "cell_type": "code",
   "execution_count": 21,
   "metadata": {},
   "outputs": [
    {
     "name": "stderr",
     "output_type": "stream",
     "text": [
      "C:\\Users\\harora1\\AppData\\Local\\Continuum\\anaconda3\\lib\\site-packages\\gensim\\models\\keyedvectors.py:877: FutureWarning: arrays to stack must be passed as a \"sequence\" type such as list or tuple. Support for non-sequence iterables such as generators is deprecated as of NumPy 1.16 and will raise an error in the future.\n",
      "  vectors = vstack(self.word_vec(word, use_norm=True) for word in used_words).astype(REAL)\n"
     ]
    },
    {
     "data": {
      "text/plain": [
       "'cereal'"
      ]
     },
     "execution_count": 21,
     "metadata": {},
     "output_type": "execute_result"
    }
   ],
   "source": [
    "# find the odd one out based on cosine similarity between w2v representations of the words\n",
    "mdl_gt25.doesnt_match(['breakfast', 'cereal', 'dinner', 'lunch'])"
   ]
  },
  {
   "cell_type": "code",
   "execution_count": 22,
   "metadata": {},
   "outputs": [
    {
     "name": "stdout",
     "output_type": "stream",
     "text": [
      "[==================================================] 100.0% 31.6/31.6MB downloaded\n"
     ]
    }
   ],
   "source": [
    "# load a sample corpus (first 100,000,000 bytes of plain text from Wikipedia - used for testing purposes)\n",
    "corpus = api.load('text8')\n",
    "\n",
    "# use sample corpus to train a Word2Vec model\n",
    "mdl_text8 = Word2Vec(corpus, size=25)"
   ]
  },
  {
   "cell_type": "code",
   "execution_count": 23,
   "metadata": {},
   "outputs": [
    {
     "data": {
      "text/plain": [
       "array([ 0.98928195,  0.74085563, -0.1351101 , -0.15665665,  0.44802588,\n",
       "       -0.12992509, -0.0552069 ,  0.60877985, -1.4601767 ,  0.05157738,\n",
       "       -0.4879481 , -0.4341142 , -0.43766704, -0.76964897, -0.43753752,\n",
       "        0.39795735, -0.19255933, -0.06765946,  0.15642244,  0.12377832,\n",
       "       -0.84224975, -0.05425147, -0.6869235 , -0.6053662 , -1.0039521 ],\n",
       "      dtype=float32)"
      ]
     },
     "execution_count": 23,
     "metadata": {},
     "output_type": "execute_result"
    }
   ],
   "source": [
    "# get w2v representation of the word 'breakfast'\n",
    "mdl_text8.wv.__getitem__('breakfast')"
   ]
  },
  {
   "cell_type": "code",
   "execution_count": 24,
   "metadata": {},
   "outputs": [
    {
     "data": {
      "text/plain": [
       "[('restaurant', 0.8712396621704102),\n",
       " ('cafe', 0.8542876243591309),\n",
       " ('caf', 0.8474255800247192),\n",
       " ('gnomes', 0.84150230884552),\n",
       " ('stuffed', 0.8392696380615234),\n",
       " ('toad', 0.8273366689682007),\n",
       " ('lemon', 0.8272871971130371),\n",
       " ('palm', 0.8271494507789612),\n",
       " ('trailer', 0.8260844945907593),\n",
       " ('lynx', 0.824597954750061)]"
      ]
     },
     "execution_count": 24,
     "metadata": {},
     "output_type": "execute_result"
    }
   ],
   "source": [
    "# get words most similar to 'breakfast' based on consine distance of w2v representation\n",
    "mdl_text8.wv.most_similar('breakfast')"
   ]
  },
  {
   "cell_type": "code",
   "execution_count": null,
   "metadata": {},
   "outputs": [],
   "source": []
  }
 ],
 "metadata": {
  "kernelspec": {
   "display_name": "Python 3",
   "language": "python",
   "name": "python3"
  },
  "language_info": {
   "codemirror_mode": {
    "name": "ipython",
    "version": 3
   },
   "file_extension": ".py",
   "mimetype": "text/x-python",
   "name": "python",
   "nbconvert_exporter": "python",
   "pygments_lexer": "ipython3",
   "version": "3.7.4"
  }
 },
 "nbformat": 4,
 "nbformat_minor": 2
}
